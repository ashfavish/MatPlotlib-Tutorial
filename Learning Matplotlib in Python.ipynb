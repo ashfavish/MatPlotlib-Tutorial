{
 "cells": [
  {
   "cell_type": "markdown",
   "metadata": {},
   "source": [
    "# Tutorial\n",
    "\n",
    "###### Written and Compiled by:  *Ashleigh Favish*\n",
    "\n",
    "## Basics of Matplotlib\n",
    "\n",
    "\n",
    "One of the key skills within Data Science is being able to visualize data in order to better understand it. One of the main packages for plotting within Python is called Matplotlib.\n",
    "\n",
    "Before we use any of the methods in python, we need to import the package.\n",
    "Most coders abbreviate this package to plt and therefore it is good practice to do the same in order for other people to understand your code.\n",
    "To import Matplotlib we write the following line in python:\n",
    "import matplotlib.pyplot as plt\n",
    "\n",
    "matplotlib.pyplot contains command like functions which each make a change to a figure e.g. create figure, create a plot, plot some lines in plotting area, customize plot with labels and legends etc. \n",
    "The various states which are called are preserved across function calls i.e.  it keeps track of functions called such as the plotting area, axes etc.\n",
    "\n",
    "To call all methods we use the syntax plt.method()\n",
    "\n",
    "The basic steps to creating plots with matplotlib are:              \n",
    "\n",
    "1. Prepare data \n",
    "2.  Plot\n",
    "3.  Customize plot \n",
    "4. Show plot \n",
    "\n",
    "_Plotting_\n",
    "The .plot method of pyplot to plots the respective data points. \n",
    "The .plot takes many parameters, but the first two here are 'x' and 'y' coordinates\n",
    "\n",
    "_Customization_\n",
    "A few examples will be looked at in future exercises\n",
    "\n",
    "_Show Plot_\n",
    "The plt.plot will \"draw\"  a plot in the background, but  if we want to view the plot, we use the plt.show() method.\n",
    "This is done once all the specifications of the plot have been run"
   ]
  },
  {
   "cell_type": "markdown",
   "metadata": {},
   "source": [
    "### Instructions\n",
    "\n",
    "1. Import matplotlib.pyplot\n",
    "2. Plot graph of 'x' and 'y'  using the .plot() method\n",
    "3.  Label the y-axis \"random\"  by using .ylabel() method\n",
    "4. Show the plot using the .show method"
   ]
  },
  {
   "cell_type": "code",
   "execution_count": 2,
   "metadata": {},
   "outputs": [],
   "source": [
    "#Import matplotlib package\n",
    "\n",
    "\n",
    "#Step 1 Prepare Data\n",
    "x = [1,2,3,4]\n",
    "y = [10,20,25,30]\n",
    "\n",
    "#Step 2 Plot Graph\n",
    "\n",
    "\n",
    "#Step 3 Label y axis \n",
    "\n",
    "\n",
    "#Step 4 Show Plot\n",
    "\n"
   ]
  },
  {
   "cell_type": "markdown",
   "metadata": {},
   "source": [
    "# Legends, Titles, and Labels\n",
    "\n",
    "In the previous exercise, we had a quick example of labeling the y-axis.\n",
    "In this exercise we will look at the other methods we can use to better customize our graph by adding legends, titles and labels.\n",
    "\n",
    "To add a title, we use the command .title\n",
    "\n",
    " e.g. \n",
    "\n",
    "plt.title(\"This is a title\")\n",
    "\n",
    "To add labels to our x and y axes, we use the .xlabel and .ylabel method respectively\n",
    "\n",
    "e.g.\n",
    "\n",
    "plt.xlabel(\"This is a label on the x axis\")\n",
    "\n",
    "A useful way to add a legend is to add a parameter \"label = \" into the .plot method.\n",
    "This will automatically give a name to the legend when the .legend method is called.\n",
    "\n",
    "e.g.\n",
    "\n",
    "plt.plot(x,  y, label = \"line 1\")\n",
    "\n",
    "plt.plot(a,  b, label = \"line 2\")\n",
    "\n",
    "plt.legend()"
   ]
  },
  {
   "cell_type": "markdown",
   "metadata": {},
   "source": [
    "### Instructions\n",
    "\n",
    "The data given is the sales and costs of a particular business over a 12 month period.\n",
    "\n",
    "1) Plot a line for both sales over the months, and costs over the months using .plot method. Remember to add a label parameter for the legend.\n",
    "\n",
    "2) Add a legend using the .legend method\n",
    "\n",
    "3) Add the following labels and titles:     \n",
    "x-axis: \"Time\"       \n",
    "y-axis: \"R'000\"         \n",
    "Plot Title: \"Sales versus Costs for 2018\"\n",
    "\n",
    "4) Finally Show the graphs you have plotted using the .show method\n"
   ]
  },
  {
   "cell_type": "code",
   "execution_count": 3,
   "metadata": {},
   "outputs": [],
   "source": [
    "#The data\n",
    "months = [1, 2, 3, 4, 5, 6, 7, 8, 9, 10, 11, 12]\n",
    "sales = [100, 140, 130, 90, 110, 115, 145, 160, 120, 100, 160, 180]\n",
    "costs = [40, 90, 80, 50, 60, 50, 70, 80, 90, 70, 100, 110]\n",
    "\n",
    "#Plot sales over time and costs over time\n",
    "\n",
    "\n",
    "#Add Legend to Plot\n",
    "\n",
    "\n",
    "# Add labels for x-axis and y-axis as well as a title for the plot\n",
    "\n",
    "\n",
    "#Show Plot\n",
    "\n"
   ]
  },
  {
   "cell_type": "markdown",
   "metadata": {},
   "source": [
    "# Scatter Plots\n",
    "\n",
    "Another useful plotting tool is a scatter plot as this allows us to see the general distribution of our data and if there are any correlations or relationships.\n",
    "\n",
    "Their are various customization options available for scatter plots such as size of points, colour and shape of each point. This customization takes place within the .scatter method. \n",
    "\n",
    "Matplotlib has various abbreviations to represent each colour such as:\n",
    "\n",
    "- b : blue.\n",
    "- g : green.\n",
    "- r : red.\n",
    "- c : cyan.\n",
    "- m : magenta etc. \n",
    "\n",
    "For a full range of colour options visit https://matplotlib.org/2.0.2/api/colors_api.html\n",
    "\n",
    "The parameter marker changes the shape of the point such as:\n",
    "\n",
    "- \".\"\tpoint\n",
    "- \"o\"\tcircle\n",
    "- \"v\"\ttriangle_down\n",
    "- \"*\"\tstar\n",
    "- \"h\"\thexagon1\n",
    "For a full range of colour options visit https://matplotlib.org/api/markers_api.html\n",
    "\n",
    "e.g.\n",
    "\n",
    "plt.scatter( x, y, s=20, color = \"m\", marker = \".\")\n",
    "\n",
    "Where \"s = \" is the size parameter"
   ]
  },
  {
   "cell_type": "markdown",
   "metadata": {},
   "source": [
    "### Instructions\n",
    "\n",
    "Some data has been created below for you to use.\n",
    "\n",
    "1) Create a scatter plot of co-ordinates \"x\" and \"y\"  which are of size 20, in the colour magenta and with a star as a marker.\n",
    "\n",
    "2) Create a scatter plot of co-ordinates \"x2\" and \"y2\"  which are of size 40  in green and with a hexagon as a marker.\n",
    "\n",
    "3) Remember to show your graph with the .show method."
   ]
  },
  {
   "cell_type": "code",
   "execution_count": 7,
   "metadata": {},
   "outputs": [],
   "source": [
    "import numpy as np\n",
    "\n",
    "# np.arrange returns evenly spaced values within a given interval.\n",
    "# np.arange([start, ]stop, [step, ])\n",
    "t = np.arange(0., 5., 0.2)\n",
    "x = t**2\n",
    "y = t\n",
    "x2 = t**0.3\n",
    "y2 = t**1.5"
   ]
  },
  {
   "cell_type": "code",
   "execution_count": 5,
   "metadata": {},
   "outputs": [],
   "source": [
    "# Create Scatter plot of x and y\n",
    "\n",
    "\n",
    "#Create Scatter plot of x2 and y2\n",
    "\n",
    "\n",
    "#Remember to show graph\n",
    "\n"
   ]
  },
  {
   "cell_type": "markdown",
   "metadata": {},
   "source": [
    "You can also create a scatter plot using the .plot method.\n",
    "\n",
    "This method takes in a 3rd argument after x and y which you can specify both the colour and marker.\n",
    "\n",
    "e.g. \n",
    "\n",
    "plt.plot(x,y, \"m*\")\n",
    "\n",
    "This will plot a * marker (as above) which is \"m\" magenta in colour.\n",
    "\n",
    "The argument for size isn't \"s=\" like in the .scatter method but is expressed as \"markersize=\". However, this sizing parameter is the the square root of the \"s=\" in the regular scatter plot. Therefore for s=25, you would use a marker size of markersize=5.\n",
    "\n",
    "### Instructions \n",
    "\n",
    "1) Try plot the above scatter plots using the .plot method\n",
    "\n",
    "2) Create a legend for the lines, by using the label parameter in the .plot method.\n"
   ]
  },
  {
   "cell_type": "code",
   "execution_count": null,
   "metadata": {},
   "outputs": [],
   "source": [
    "#Create Scatter Plots using .plot method\n",
    "\n",
    "# Create legend\n",
    "\n",
    "# Show Plots\n",
    "\n"
   ]
  },
  {
   "cell_type": "markdown",
   "metadata": {},
   "source": [
    "# Bar Plots\n",
    "\n",
    "A Bar Plot shows different categorical groupings of data.  \n",
    "In matplotlib the creating a bar chart has the following method:\n",
    "\n",
    "plt.bar(x,height, otherArguments...)\n",
    "\n",
    "x: is the x co-ordinates of the bars\n",
    "height: is the height of each bar\n",
    "otherArguments: This includes \"color=\" , \"edgecolor=\" and width of the bars \"width=\"\n",
    "\n",
    "To create a label for each bar of your bar chart, there is an additional method you can call:\n",
    "\n",
    "plt.xticks(locs, labels)\n",
    "\n",
    "locs = location on x axis of each label\n",
    "labels = the actual label\n",
    "\n",
    "If you want to create a horixontal bar chart you can use the same process as above, except using the method plt.barh(). In this case you will use the method plt.yticks() to position your bar labels.\n"
   ]
  },
  {
   "cell_type": "markdown",
   "metadata": {},
   "source": [
    "### Instructions\n",
    "\n",
    "We are going to plot a simple bar graph of the various degrees in AIFMRM department and how many students they all contain using the dample data. \n",
    "\n",
    "1) Plot a bar plot showing the number of students in each degree of AIFMRM. Make the colour of the bars green and the edge of each bar black. You can play around with the width paramater.  \n",
    "2) Add labels to each bar on the bar chart correspondin to the degree title.  \n",
    "3) Add appropriate labels for the axes and plot.  "
   ]
  },
  {
   "cell_type": "code",
   "execution_count": 3,
   "metadata": {},
   "outputs": [],
   "source": [
    "#The Data \n",
    "AIFMRM = [\"Fintech\", \"Mphil\", \"Mcomm\", \"PHD\"]\n",
    "students = [12, 15, 20, 7]  #Number of students (the height for each bar)\n",
    "x_position =range(len(AIFMRM)) \n",
    "\n",
    "#Plot Bar Plot\n",
    "\n",
    "\n",
    "#Add labels for each bar\n",
    "\n",
    "\n",
    "#Add Appropriate Labels\n",
    "\n",
    "\n",
    "#Don't Forget to show your graph\n"
   ]
  },
  {
   "cell_type": "markdown",
   "metadata": {},
   "source": [
    "4) Try do the above with a horizontal bar chart"
   ]
  },
  {
   "cell_type": "code",
   "execution_count": 2,
   "metadata": {},
   "outputs": [],
   "source": [
    "#Plot Horizontal Bar Plot\n",
    "\n",
    "\n",
    "#Add labels for each bar (now on y axis)\n",
    "\n",
    "\n",
    "#Add Appropriate Labels\n",
    "\n",
    "\n",
    "#Don't Forget to show your graph\n"
   ]
  },
  {
   "cell_type": "markdown",
   "metadata": {},
   "source": [
    "# Stacked Bar Chart\n",
    "\n",
    "Another commonly used visualization plot is a stacked bar plot. \n",
    "\n",
    "This can be easily done with matplotlib, by adding a parameter \"bottom=\" to specify where the next layer of the bar chart will start.\n",
    "\n",
    "e.g.\n",
    "\n",
    "plt.bar(x-cords, undergradstudents)  \n",
    "plt.bar(x-cords, postgradstudents, bottom = undergradstudents)\n",
    "\n",
    "### Instructions\n",
    "\n",
    "Using our previous AIFMRM data, we will now add another layer onto the bar chart to show the number of lecturers.\n",
    "\n",
    "1) Create the same barplot as before.  \n",
    "2) Add a second level to this plot by adding the number of lecturers above the number of students.  \n",
    "3) Add a legend for each portion of the bar.  "
   ]
  },
  {
   "cell_type": "code",
   "execution_count": 4,
   "metadata": {},
   "outputs": [],
   "source": [
    "#The Data \n",
    "AIFMRM = [\"Fintech\", \"Mphil\", \"Mcomm\", \"PHD\"]\n",
    "students = [12, 15, 20, 7]  #Number of students (the height for each bar)\n",
    "lecturers = [7, 10, 9, 1]\n",
    "x_position =range(len(AIFMRM)) \n",
    "\n",
    "#Plot Bar Plot\n",
    "\n",
    "\n",
    "#Add labels for each bar\n",
    "\n",
    "\n",
    "#Add a legend\n",
    "\n",
    "\n",
    "#Don't Forget to show your graph\n",
    "\n"
   ]
  },
  {
   "cell_type": "markdown",
   "metadata": {},
   "source": [
    "# Stackplot\n",
    "\n",
    "A stackplot uses area under a line to show proportions of a whole. \n",
    "For example, you may wish to show how you spend your time on different days (e.g. sleeping, eating, fun) or how the distribution of your costs change over time.\n",
    "\n",
    "Matplotlib allows you to create a stackplot using the following method:\n",
    "\n",
    "plt.stackplot(x, y, y1, y2, y3, labels = [ ])\n",
    "\n",
    "where x is the x-coordinates and each y represents a level of the stack. \n",
    "\n",
    "In order to create a legend to label each part of the stack, you simply create an array of label names and insert that as a parameter into the .stackplot method.\n",
    "\n",
    "\n",
    "### Instructions\n",
    "\n",
    "The example data that we will put into a stack plot shows an example of spending your student budget of R1000 a month on food, fun and other expenses.\n",
    "\n",
    "1) Create an array of labels for food, fun and other to be used in the stackplot.  \n",
    "2) Create a stackplot showing how a student spends their budget. (Remember to put in the labels parameter).  \n",
    "3) Add legend and a heading.  \n",
    "4) Add a label for each month like we did above in the barcharts example."
   ]
  },
  {
   "cell_type": "code",
   "execution_count": 13,
   "metadata": {},
   "outputs": [],
   "source": [
    "# The data\n",
    "months = [\"Jan\", \"Feb\", \"Mar\", \"Apr\", \"May\", \"Jun\", \"Jul\", \"Aug\", \"Sep\", \"Oct\",\"Nov\", \"Dec\"]\n",
    "xcoords = range(1,13)\n",
    "#Making data into numpy array so can do perform array substraction\n",
    "food = np.array([400, 380, 420, 300, 400, 480, 500, 460, 435, 600, 350, 300])\n",
    "fun = np.array([400, 350, 300, 350, 200, 400, 380, 280, 500, 350, 200, 600 ])\n",
    "other = 1000-(food + fun)\n",
    "\n",
    "#Array of labels\n",
    "\n",
    "\n",
    "#Now for the StackPlot\n",
    "\n",
    "\n",
    "#Legend + Heading\n",
    "\n",
    "\n",
    "#Add labels for each month\n",
    "\n",
    "\n",
    "#Show graph\n"
   ]
  },
  {
   "cell_type": "markdown",
   "metadata": {},
   "source": [
    "# Bootstrap Styles\n",
    "\n",
    "Just as we learnt with html, css and bootstrap are great ways to add style to a website.\n",
    "\n",
    "Matplotlib has some built in styles which can instantly improve ad style up and otherwise bland plot.\n",
    "\n",
    "To see which styles are available we run the following line of code:\n"
   ]
  },
  {
   "cell_type": "code",
   "execution_count": 15,
   "metadata": {},
   "outputs": [
    {
     "name": "stdout",
     "output_type": "stream",
     "text": [
      "['bmh', 'classic', 'dark_background', 'fast', 'fivethirtyeight', 'ggplot', 'grayscale', 'seaborn-bright', 'seaborn-colorblind', 'seaborn-dark-palette', 'seaborn-dark', 'seaborn-darkgrid', 'seaborn-deep', 'seaborn-muted', 'seaborn-notebook', 'seaborn-paper', 'seaborn-pastel', 'seaborn-poster', 'seaborn-talk', 'seaborn-ticks', 'seaborn-white', 'seaborn-whitegrid', 'seaborn', 'Solarize_Light2', 'tableau-colorblind10', '_classic_test']\n"
     ]
    }
   ],
   "source": [
    "print(plt.style.available)"
   ]
  },
  {
   "cell_type": "markdown",
   "metadata": {},
   "source": [
    "Some nice ones from the list above are \"ggplot\" (which we remember from R), \"seaborn-pasel\" and for a cool inverse effect you can use \"dark-background\". There is even a style which has consideration for the colour blind , \"tableau-colorblind10\", which you can use to show you have applied what you have learn from our data visualization course.\n",
    "\n",
    "To use a style, we first have to import the styles from matplotlib with the following code:\n",
    "\n",
    "from matplotlib import style\n",
    "\n",
    "After we have imported the styles, we simply call the method .use as follows:\n",
    "\n",
    "e.g.\n",
    "\n",
    "style.use(\"ggplot\")\n",
    "\n",
    "### Instructions\n",
    "\n",
    "1) Import style from matplotlib.  \n",
    "2) Add a style to your plot.  \n",
    "3) Take one of the plots you have created above and recreate it with a new style.  \n",
    "4) Change style to other options to find your favourite style and then update your plots above with it."
   ]
  },
  {
   "cell_type": "code",
   "execution_count": 16,
   "metadata": {},
   "outputs": [],
   "source": [
    "# Import style\n",
    "\n",
    "#Add style to your plot (Find your favourite)\n",
    "\n",
    "#Recreate previously made graph with style\n",
    "\n"
   ]
  },
  {
   "cell_type": "markdown",
   "metadata": {},
   "source": [
    "# Wrapping up with Iris and Pandas\n",
    "\n",
    "A data science tutorial is never complete unless you visualize one of the most popular datasets \"iris\".\n",
    "\n",
    "The Iris data set has 150 iris flowers of 3 different species of iris flowers. For each flower, there are 4 measurements. Namely: Sepal-length, Sepal-width, Petal- Length and Petal-Width.\n",
    "\n",
    "This data set can be downloaded from the following url:  \n",
    "\"https://archive.ics.uci.edu/ml/machine-learning-databases/iris/iris.data\"\n",
    "\n",
    "The pandas package allows you to create matplotlib plots directly from a dataset by applying the plotting methods directly to a pandas dataframe.\n",
    "\n",
    "e.g.\n",
    "\n",
    "pandasdataframe.hist()  \n",
    "pandasdataframe.boxplot()  \n",
    "Will create histograms and boxplots respectively for each feature of the dataframe. \n",
    "\n",
    "Another way to plot different graphs is by using the .plot method\n",
    "\n",
    "e.g. \n",
    "\n",
    "pandasdataframe.plot(kind = \"see below\", subplots, legend etc...)\n",
    "\n",
    "These various types of plots available in the above form:  \n",
    "‘line’ : line plot (default)  \n",
    "‘bar’ : vertical bar plot  \n",
    "‘barh’ : horizontal bar plot  \n",
    "‘hist’ : histogram  \n",
    "‘box’ : boxplot  \n",
    "‘kde’ : Kernel Density Estimation plot  \n",
    "‘density’ : same as ‘kde’  \n",
    "‘area’ : area plot  \n",
    "‘pie’ : pie plot   \n",
    "‘scatter’ : scatter plot  \n",
    "‘hexbin’ : hexbin plot  \n",
    "\n",
    "If you want each column variable to have a seperate subplot, you would make \"subplots = True\".\n",
    "\n",
    "As pandas still used matplotlib, remember to run the plt.show() method in order to view the plots in the foreground. It is also possible to style the plots as we did above. Just as with other matplotlib plots, you can add other features to your graph such as a heading (plt.title(\" \")), axes labels etc.\n",
    "\n",
    "### Instructions\n",
    "\n",
    "1) Import pandas and create a pandas dataframe of the Iris data using the URL above and pandas.read_csv() method. The url  data doesn't include the title headings but you can include them by including the parameter \"names=[]\" when you read in the data.  \n",
    "2) Add a fun style to your plot.  \n",
    "3) Create a boxplot to show the distribution of each Iris feature. Try add a title to your boxplot.  \n",
    "4) Now create a boxplot with each feature on its own subplot.  \n",
    "5) Explore the data visually by using other pandas plotting features such as histograms and density plots."
   ]
  },
  {
   "cell_type": "code",
   "execution_count": null,
   "metadata": {},
   "outputs": [],
   "source": [
    "#Import pandas\n",
    "\n",
    "\n",
    "# Load dataset and read in headings\n",
    "url = \"https://archive.ics.uci.edu/ml/machine-learning-databases/iris/iris.data\"\n",
    "headings = ['sepal-length', 'sepal-width', 'petal-length', 'petal-width', 'class']\n",
    "\n"
   ]
  },
  {
   "cell_type": "code",
   "execution_count": null,
   "metadata": {},
   "outputs": [],
   "source": [
    "#Style your graph\n",
    "\n",
    "\n",
    "#Create Boxplot directly from iris dataframe\n",
    "\n",
    "\n",
    "#Add Title\n",
    "\n",
    "\n",
    "#Remember to show your graph\n"
   ]
  },
  {
   "cell_type": "code",
   "execution_count": null,
   "metadata": {},
   "outputs": [],
   "source": [
    "#Boxplot with subplots  - option to change style \n",
    "\n",
    "\n",
    "\n",
    "#Remember to Show Graph\n"
   ]
  },
  {
   "cell_type": "code",
   "execution_count": null,
   "metadata": {},
   "outputs": [],
   "source": [
    "#Trying Out Histogram\n",
    "\n",
    "\n",
    "#Remember to Show Graph\n"
   ]
  },
  {
   "cell_type": "code",
   "execution_count": null,
   "metadata": {},
   "outputs": [],
   "source": [
    "#Trying Out Density Plots\n",
    "\n",
    "\n",
    "#Remember to Show Graph\n"
   ]
  }
 ],
 "metadata": {
  "kernelspec": {
   "display_name": "Python 3",
   "language": "python",
   "name": "python3"
  },
  "language_info": {
   "codemirror_mode": {
    "name": "ipython",
    "version": 3
   },
   "file_extension": ".py",
   "mimetype": "text/x-python",
   "name": "python",
   "nbconvert_exporter": "python",
   "pygments_lexer": "ipython3",
   "version": "3.6.5"
  }
 },
 "nbformat": 4,
 "nbformat_minor": 2
}
